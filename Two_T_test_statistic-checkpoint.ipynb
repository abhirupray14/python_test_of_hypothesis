{
 "cells": [
  {
   "cell_type": "code",
   "execution_count": 3,
   "metadata": {},
   "outputs": [
    {
     "name": "stdout",
     "output_type": "stream",
     "text": [
      "Ttest_indResult(statistic=-0.20365326999062763, pvalue=0.8409091277398291)\n",
      "The promotional activity has increased the sales.\n"
     ]
    }
   ],
   "source": [
    "import pandas as mypd\n",
    "from scipy import stats\n",
    "data1 = mypd.read_csv(\"C:/Users/USER/Data_Sets/Utilisation.csv\")\n",
    "utilisation_1 = data1.Utilise_1\n",
    "utilisation_2 = data1.Utilise_2\n",
    "result = stats.ttest_ind(utilisation_1,utilisation_2)\n",
    "print(result)\n",
    "if(result.pvalue >= 0.05):\n",
    "    print(\"The promotional activity has increased the sales.\")\n",
    "else:\n",
    "    print(\"No increase in sales due to promotional activity.\")"
   ]
  },
  {
   "cell_type": "code",
   "execution_count": null,
   "metadata": {},
   "outputs": [],
   "source": []
  },
  {
   "cell_type": "code",
   "execution_count": null,
   "metadata": {},
   "outputs": [],
   "source": []
  },
  {
   "cell_type": "code",
   "execution_count": null,
   "metadata": {},
   "outputs": [],
   "source": []
  }
 ],
 "metadata": {
  "kernelspec": {
   "display_name": "Python 3",
   "language": "python",
   "name": "python3"
  },
  "language_info": {
   "codemirror_mode": {
    "name": "ipython",
    "version": 3
   },
   "file_extension": ".py",
   "mimetype": "text/x-python",
   "name": "python",
   "nbconvert_exporter": "python",
   "pygments_lexer": "ipython3",
   "version": "3.7.6"
  }
 },
 "nbformat": 4,
 "nbformat_minor": 4
}
